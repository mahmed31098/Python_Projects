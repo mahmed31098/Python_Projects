{
 "cells": [
  {
   "cell_type": "markdown",
   "id": "ec8f2dd7",
   "metadata": {},
   "source": [
    "# Vanilla Python Project (Continued)\n",
    "\n",
    "### A Jupyter Notebook showing a simple analysis using the Students Performance in Exams Dataset (attached to this document) and the functions defined in the previous python file (Vanilla Python Project). In particular, you have to implement at least the following analysis:\n",
    "\n",
    "#### Count the number of male and female students\n"
   ]
  },
  {
   "cell_type": "code",
   "execution_count": 1,
   "id": "ebdf5006-a064-4528-974e-a265a1fe84d7",
   "metadata": {},
   "outputs": [
    {
     "name": "stdout",
     "output_type": "stream",
     "text": [
      "male :  517\n",
      "female :  483\n"
     ]
    }
   ],
   "source": [
    "def read_column(filepath,column_name):\n",
    "    f = open(filepath)\n",
    "    list_of_my_csv = []\n",
    "    for row in f:\n",
    "        row = row.replace('\\n','')\n",
    "        row = row.strip()\n",
    "        list_of_my_csv.append(row.split(','))\n",
    "    dict={}\n",
    "    First_Row = list_of_my_csv.pop(0)\n",
    "    for i in First_Row:\n",
    "        dict[i]=First_Row.index(i)\n",
    "    required_list=[item[dict[column_name]] for item in list_of_my_csv]\n",
    "    return required_list\n",
    "\n",
    "def value_counts(elements):\n",
    "    list_of_count=[[x,elements.count(x)] for x in set(elements)]\n",
    "    d={key: value for (key, value) in list_of_count}\n",
    "    for k,v in d.items():\n",
    "        print(k,\": \",v)\n",
    "value_counts(read_column('H:\\ADS\\S1\\PFDS\\Assignment 1\\exams.csv','gender'))"
   ]
  },
  {
   "cell_type": "markdown",
   "id": "efd5bb6e",
   "metadata": {},
   "source": [
    "#### Print the sex of the student with highest math score, the sex of the student with the highest reading score, and the sex of the student with the highest writing score "
   ]
  },
  {
   "cell_type": "code",
   "execution_count": 12,
   "id": "1b22b50b-683b-487a-8d1d-8ff623dd6d49",
   "metadata": {},
   "outputs": [
    {
     "name": "stdout",
     "output_type": "stream",
     "text": [
      "Sex:  male      Maximum value index of math score is:  44\n",
      "Sex:  female      Maximum value index of reading score is:  96\n",
      "Sex:  female      Maximum value index of writing score is:  96\n"
     ]
    }
   ],
   "source": [
    "def argmax(list_of_numbers):\n",
    "    lowest=-1000\n",
    "    for i in list_of_numbers:\n",
    "        if i>lowest:\n",
    "            lowest=i\n",
    "            index_of_maximum_value_in_the_list = list_of_numbers.index(i)\n",
    "    return index_of_maximum_value_in_the_list\n",
    "\n",
    "numerical_list = [int(i) for i in read_column('H:\\ADS\\S1\\PFDS\\Assignment 1\\exams.csv','math score')]\n",
    "print(\"Sex: \",read_column('H:\\ADS\\S1\\PFDS\\Assignment 1\\exams.csv','gender')[argmax(numerical_list)],\"     Maximum value index of math score is: \",argmax(numerical_list))\n",
    "\n",
    "numerical_list = [int(i) for i in read_column('H:\\ADS\\S1\\PFDS\\Assignment 1\\exams.csv','reading score')]\n",
    "print(\"Sex: \",read_column('H:\\ADS\\S1\\PFDS\\Assignment 1\\exams.csv','gender')[argmax(numerical_list)],\"     Maximum value index of reading score is: \",argmax(numerical_list))\n",
    "    \n",
    "numerical_list = [int(i) for i in read_column('H:\\ADS\\S1\\PFDS\\Assignment 1\\exams.csv','writing score')]\n",
    "print(\"Sex: \",read_column('H:\\ADS\\S1\\PFDS\\Assignment 1\\exams.csv','gender')[argmax(numerical_list)],\"     Maximum value index of writing score is: \",argmax(numerical_list))\n"
   ]
  },
  {
   "cell_type": "code",
   "execution_count": null,
   "id": "07b57ff5-5cc9-4877-bb47-359919a5a7d6",
   "metadata": {},
   "outputs": [],
   "source": []
  }
 ],
 "metadata": {
  "kernelspec": {
   "display_name": "Python 3 (ipykernel)",
   "language": "python",
   "name": "python3"
  },
  "language_info": {
   "codemirror_mode": {
    "name": "ipython",
    "version": 3
   },
   "file_extension": ".py",
   "mimetype": "text/x-python",
   "name": "python",
   "nbconvert_exporter": "python",
   "pygments_lexer": "ipython3",
   "version": "3.9.13"
  }
 },
 "nbformat": 4,
 "nbformat_minor": 5
}
